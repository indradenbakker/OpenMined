{
 "cells": [
  {
   "cell_type": "code",
   "execution_count": null,
   "metadata": {
    "collapsed": true
   },
   "outputs": [],
   "source": [
    "from syft import Linear, Sigmoid, Model\n",
    "import syft.syft as syft\n",
    "import imp\n",
    "imp.reload(syft)\n",
    "import numpy as np\n",
    "from syft import FloatTensor,SyftController, Sequential\n",
    "# connect -- rerun this block if you make changes to the unity back-end\n",
    "#         -- the controller is not yet smart enough to retry connection\n",
    "#         -- on its own\n",
    "sc = SyftController(verbose=False)"
   ]
  },
  {
   "cell_type": "code",
   "execution_count": 2,
   "metadata": {
    "collapsed": true
   },
   "outputs": [],
   "source": [
    "# Dataset\n",
    "input = sc.FloatTensor([[0,0,1],[0,1.0,1],[1,0,1],[1,1,1]], autograd=True)\n",
    "target = sc.FloatTensor([[0],[0],[1],[1]]).autograd(True)"
   ]
  },
  {
   "cell_type": "code",
   "execution_count": 3,
   "metadata": {
    "collapsed": true
   },
   "outputs": [],
   "source": [
    "model = sc.Sequential()\n",
    "model.add(sc.Linear(3,4))\n",
    "model.add(sc.Sigmoid())\n",
    "model.add(sc.Linear(4,1))\n",
    "model.add(sc.Sigmoid())"
   ]
  },
  {
   "cell_type": "code",
   "execution_count": null,
   "metadata": {},
   "outputs": [
    {
     "name": "stdout",
     "output_type": "stream",
     "text": [
      "1.14032191\n",
      "0.9683656\n",
      "0.9492205\n",
      "1.09052751\n",
      "1.05194588\n",
      "0.8136929\n",
      "0.69513716\n",
      "0.74000879\n",
      "0.63795074\n",
      "0.381106685\n",
      "0.159602006\n",
      "0.0539412325\n",
      "0.0169978591\n",
      "0.00548891566\n",
      "0.001897863142\n",
      "0.0007144740962\n",
      "0.00029502667343\n",
      "0.00013423518337\n",
      "6.75081623541e-05\n"
     ]
    }
   ],
   "source": [
    "for iter in range(100):\n",
    "\n",
    "    pred = model(input)\n",
    "\n",
    "    loss = (pred - target) ** 2 # Mean Squared Error Loss\n",
    "\n",
    "    loss.backward()\n",
    "\n",
    "    for p in model.parameters():\n",
    "        try:\n",
    "            p -= p.grad()\n",
    "        except:\n",
    "            \"\"\n",
    "\n",
    "    print(loss.to_numpy().sum())"
   ]
  },
  {
   "cell_type": "code",
   "execution_count": null,
   "metadata": {
    "collapsed": true
   },
   "outputs": [],
   "source": []
  }
 ],
 "metadata": {
  "kernelspec": {
   "display_name": "Python 3",
   "language": "python",
   "name": "python3"
  },
  "language_info": {
   "codemirror_mode": {
    "name": "ipython",
    "version": 3
   },
   "file_extension": ".py",
   "mimetype": "text/x-python",
   "name": "python",
   "nbconvert_exporter": "python",
   "pygments_lexer": "ipython3",
   "version": "3.6.1"
  }
 },
 "nbformat": 4,
 "nbformat_minor": 2
}
